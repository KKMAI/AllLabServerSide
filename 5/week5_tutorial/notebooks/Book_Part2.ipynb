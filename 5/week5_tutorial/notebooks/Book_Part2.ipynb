{
 "cells": [
  {
   "cell_type": "code",
   "execution_count": 1,
   "id": "1aeb77a6",
   "metadata": {},
   "outputs": [],
   "source": [
    "import os\n",
    "os.environ[\"DJANGO_ALLOW_ASYNC_UNSAFE\"] = \"true\""
   ]
  },
  {
   "cell_type": "code",
   "execution_count": 2,
   "id": "d0d6d424",
   "metadata": {},
   "outputs": [],
   "source": [
    "from books.models import Publisher, Book\n",
    "from datetime import datetime"
   ]
  },
  {
   "cell_type": "code",
   "execution_count": 4,
   "id": "76771d24",
   "metadata": {},
   "outputs": [],
   "source": [
    "penguin_pub = Publisher.objects.get(name=\"Penguin Books\")"
   ]
  },
  {
   "cell_type": "code",
   "execution_count": 6,
   "id": "4ef9a2b0",
   "metadata": {},
   "outputs": [],
   "source": [
    "book = Book.objects.create(name=\"Web Programing is HARD\", \n",
    "                           pages=200, \n",
    "                           price=10.00, \n",
    "                           rating=4.5, \n",
    "                           publisher=penguin_pub, pubdate=datetime.now().date())"
   ]
  },
  {
   "cell_type": "code",
   "execution_count": 7,
   "id": "37973eae",
   "metadata": {},
   "outputs": [
    {
     "data": {
      "text/plain": [
       "<Book: Book object (60)>"
      ]
     },
     "execution_count": 7,
     "metadata": {},
     "output_type": "execute_result"
    }
   ],
   "source": [
    "book"
   ]
  },
  {
   "cell_type": "code",
   "execution_count": 10,
   "id": "0477baf2",
   "metadata": {},
   "outputs": [
    {
     "data": {
      "text/plain": [
       "'Penguin Books'"
      ]
     },
     "execution_count": 10,
     "metadata": {},
     "output_type": "execute_result"
    }
   ],
   "source": [
    "book.publisher.name"
   ]
  },
  {
   "cell_type": "code",
   "execution_count": 11,
   "id": "e44c933a",
   "metadata": {},
   "outputs": [
    {
     "data": {
      "text/plain": [
       "1"
      ]
     },
     "execution_count": 11,
     "metadata": {},
     "output_type": "execute_result"
    }
   ],
   "source": [
    "book.publisher.id"
   ]
  },
  {
   "cell_type": "code",
   "execution_count": 17,
   "id": "da3d5ddd",
   "metadata": {},
   "outputs": [
    {
     "data": {
      "text/plain": [
       "<django.db.models.fields.related_descriptors.create_reverse_many_to_one_manager.<locals>.RelatedManager at 0x1d0bd30a7b0>"
      ]
     },
     "execution_count": 17,
     "metadata": {},
     "output_type": "execute_result"
    }
   ],
   "source": [
    "penguin_pub.book_set"
   ]
  },
  {
   "cell_type": "code",
   "execution_count": 18,
   "id": "bc718be4",
   "metadata": {},
   "outputs": [
    {
     "data": {
      "text/plain": [
       "<QuerySet [<Book: Book object (1)>, <Book: Book object (2)>, <Book: Book object (3)>, <Book: Book object (4)>, <Book: Book object (5)>, <Book: Book object (6)>, <Book: Book object (7)>, <Book: Book object (8)>, <Book: Book object (9)>, <Book: Book object (10)>, <Book: Book object (11)>, <Book: Book object (12)>, <Book: Book object (13)>, <Book: Book object (14)>, <Book: Book object (15)>, <Book: Book object (16)>, <Book: Book object (17)>, <Book: Book object (18)>, <Book: Book object (19)>, <Book: Book object (20)>, '...(remaining elements truncated)...']>"
      ]
     },
     "execution_count": 18,
     "metadata": {},
     "output_type": "execute_result"
    }
   ],
   "source": [
    "penguin_pub.book_set.all()"
   ]
  },
  {
   "cell_type": "code",
   "execution_count": 19,
   "id": "7b70c717",
   "metadata": {},
   "outputs": [
    {
     "data": {
      "text/plain": [
       "21"
      ]
     },
     "execution_count": 19,
     "metadata": {},
     "output_type": "execute_result"
    }
   ],
   "source": [
    "penguin_pub.book_set.count()"
   ]
  },
  {
   "cell_type": "code",
   "execution_count": 16,
   "id": "82042a47",
   "metadata": {},
   "outputs": [
    {
     "data": {
      "text/plain": [
       "<QuerySet [<Book: Book object (13)>, <Book: Book object (3)>, <Book: Book object (14)>, <Book: Book object (8)>, <Book: Book object (11)>, <Book: Book object (2)>, <Book: Book object (7)>, <Book: Book object (17)>, <Book: Book object (60)>, <Book: Book object (9)>]>"
      ]
     },
     "execution_count": 16,
     "metadata": {},
     "output_type": "execute_result"
    }
   ],
   "source": [
    "penguin_pub.book_set.order_by(\"-rating\")[:10]"
   ]
  },
  {
   "cell_type": "code",
   "execution_count": 22,
   "id": "8f3050fc",
   "metadata": {},
   "outputs": [
    {
     "name": "stdout",
     "output_type": "stream",
     "text": [
      "The Great Gatsby\n",
      "The Catcher in the Rye\n",
      "The Odyssey\n",
      "The Hobbit\n",
      "The Hitchhiker Guide to the Galaxy\n"
     ]
    }
   ],
   "source": [
    "pg = penguin_pub.book_set.filter(name__startswith=\"The\")\n",
    "for p in pg:\n",
    "    print(p.name)"
   ]
  },
  {
   "cell_type": "code",
   "execution_count": 28,
   "id": "4e5624dc",
   "metadata": {},
   "outputs": [
    {
     "data": {
      "text/plain": [
       "[1, 5, 8, 14, 17]"
      ]
     },
     "execution_count": 28,
     "metadata": {},
     "output_type": "execute_result"
    }
   ],
   "source": [
    "list(penguin_pub.book_set.filter(name__startswith=\"The\").values_list(\"id\", flat=True))"
   ]
  },
  {
   "cell_type": "markdown",
   "id": "84b055b5",
   "metadata": {},
   "source": [
    "## .value >> list of dictionary"
   ]
  },
  {
   "cell_type": "code",
   "execution_count": 31,
   "id": "f4f8a5ec",
   "metadata": {},
   "outputs": [
    {
     "data": {
      "text/plain": [
       "<QuerySet [{'id': 1, 'name': 'The Great Gatsby'}, {'id': 5, 'name': 'The Catcher in the Rye'}, {'id': 8, 'name': 'The Odyssey'}, {'id': 14, 'name': 'The Hobbit'}, {'id': 17, 'name': 'The Hitchhiker Guide to the Galaxy'}]>"
      ]
     },
     "execution_count": 31,
     "metadata": {},
     "output_type": "execute_result"
    }
   ],
   "source": [
    "(penguin_pub.book_set.filter(name__startswith=\"The\").values(\"id\", \"name\"))"
   ]
  },
  {
   "cell_type": "markdown",
   "id": "1841cd40",
   "metadata": {},
   "source": [
    "## no .value list of object"
   ]
  },
  {
   "cell_type": "code",
   "execution_count": 35,
   "id": "ee35e225",
   "metadata": {},
   "outputs": [
    {
     "data": {
      "text/plain": [
       "<QuerySet [<Book: Book object (1)>, <Book: Book object (5)>, <Book: Book object (8)>, <Book: Book object (14)>, <Book: Book object (17)>]>"
      ]
     },
     "execution_count": 35,
     "metadata": {},
     "output_type": "execute_result"
    }
   ],
   "source": [
    "(penguin_pub.book_set.filter(name__startswith=\"The\"))"
   ]
  },
  {
   "cell_type": "code",
   "execution_count": 36,
   "id": "ff4b7af5",
   "metadata": {},
   "outputs": [
    {
     "data": {
      "text/plain": [
       "<QuerySet [{'id': 1, 'name': 'The Great Gatsby', 'pages': 180, 'price': Decimal('10.99'), 'rating': 4.3, 'publisher_id': 1, 'pubdate': datetime.date(1925, 4, 10)}, {'id': 5, 'name': 'The Catcher in the Rye', 'pages': 277, 'price': Decimal('6.99'), 'rating': 3.9, 'publisher_id': 1, 'pubdate': datetime.date(1951, 7, 16)}, {'id': 8, 'name': 'The Odyssey', 'pages': 541, 'price': Decimal('9.99'), 'rating': 4.7, 'publisher_id': 1, 'pubdate': datetime.date(800, 12, 1)}, {'id': 14, 'name': 'The Hobbit', 'pages': 310, 'price': Decimal('10.49'), 'rating': 4.7, 'publisher_id': 1, 'pubdate': datetime.date(1937, 9, 21)}, {'id': 17, 'name': 'The Hitchhiker Guide to the Galaxy', 'pages': 224, 'price': Decimal('6.99'), 'rating': 4.5, 'publisher_id': 1, 'pubdate': datetime.date(1979, 10, 12)}]>"
      ]
     },
     "execution_count": 36,
     "metadata": {},
     "output_type": "execute_result"
    }
   ],
   "source": [
    "(penguin_pub.book_set.filter(name__startswith=\"The\").values())"
   ]
  },
  {
   "cell_type": "code",
   "execution_count": 39,
   "id": "f91b9a03",
   "metadata": {},
   "outputs": [
    {
     "data": {
      "text/plain": [
       "<QuerySet [<Book: Book object (23)>, <Book: Book object (26)>, <Book: Book object (29)>, <Book: Book object (32)>, <Book: Book object (43)>, <Book: Book object (55)>]>"
      ]
     },
     "execution_count": 39,
     "metadata": {},
     "output_type": "execute_result"
    }
   ],
   "source": [
    "Book.objects.filter(publisher__name=\"Oxford University Press\", rating__gte=4.5)"
   ]
  },
  {
   "cell_type": "code",
   "execution_count": 41,
   "id": "dcc567bb",
   "metadata": {},
   "outputs": [],
   "source": [
    "# Publisher.objects.filter(book__name=\"Oxford University Press)"
   ]
  },
  {
   "cell_type": "code",
   "execution_count": 2,
   "id": "ecbb83c2",
   "metadata": {},
   "outputs": [],
   "source": [
    ">>> from books.models import Store, StoreContact\n",
    "# Get KMITL Book Store\n",
    ">>> store = Store.objects.get(name=\"KMITL Book Store\")\n",
    "# Create contact information\n",
    ">>> contact = StoreContact(\n",
    "    mobile=\"021113333\",\n",
    "    email=\"book_shop@it.kmitl.ac.th\",\n",
    "    address=\"KMITL\",\n",
    "    store=store\n",
    ")\n",
    ">>> contact.save()"
   ]
  },
  {
   "cell_type": "code",
   "execution_count": 3,
   "id": "340e8654",
   "metadata": {},
   "outputs": [
    {
     "data": {
      "text/plain": [
       "<Store: Store object (2)>"
      ]
     },
     "execution_count": 3,
     "metadata": {},
     "output_type": "execute_result"
    }
   ],
   "source": [
    "contact.store"
   ]
  },
  {
   "cell_type": "code",
   "execution_count": 4,
   "id": "455ebc82",
   "metadata": {},
   "outputs": [
    {
     "data": {
      "text/plain": [
       "<StoreContact: StoreContact object (1)>"
      ]
     },
     "execution_count": 4,
     "metadata": {},
     "output_type": "execute_result"
    }
   ],
   "source": [
    "store.storecontact"
   ]
  },
  {
   "cell_type": "code",
   "execution_count": 6,
   "id": "69d34b40",
   "metadata": {},
   "outputs": [
    {
     "data": {
      "text/plain": [
       "<QuerySet [<Book: Book object (12)>, <Book: Book object (13)>, <Book: Book object (14)>, <Book: Book object (15)>, <Book: Book object (16)>, <Book: Book object (17)>, <Book: Book object (18)>, <Book: Book object (23)>, <Book: Book object (24)>, <Book: Book object (25)>, <Book: Book object (30)>, <Book: Book object (31)>, <Book: Book object (32)>, <Book: Book object (33)>]>"
      ]
     },
     "execution_count": 6,
     "metadata": {},
     "output_type": "execute_result"
    }
   ],
   "source": [
    "Book.objects.filter(store__storecontact__email=\"book_shop@it.kmitl.ac.th\")"
   ]
  },
  {
   "cell_type": "code",
   "execution_count": 8,
   "id": "572bd973",
   "metadata": {},
   "outputs": [
    {
     "data": {
      "text/plain": [
       "<QuerySet [<Store: Store object (2)>]>"
      ]
     },
     "execution_count": 8,
     "metadata": {},
     "output_type": "execute_result"
    }
   ],
   "source": [
    "Store.objects.filter(storecontact__mobile=\"021113333\")"
   ]
  },
  {
   "cell_type": "code",
   "execution_count": null,
   "id": "52e4b381",
   "metadata": {},
   "outputs": [],
   "source": []
  }
 ],
 "metadata": {
  "kernelspec": {
   "display_name": "Django Shell-Plus",
   "language": "python",
   "name": "django_extensions"
  },
  "language_info": {
   "codemirror_mode": {
    "name": "ipython",
    "version": 3
   },
   "file_extension": ".py",
   "mimetype": "text/x-python",
   "name": "python",
   "nbconvert_exporter": "python",
   "pygments_lexer": "ipython3",
   "version": "3.12.2"
  }
 },
 "nbformat": 4,
 "nbformat_minor": 5
}
