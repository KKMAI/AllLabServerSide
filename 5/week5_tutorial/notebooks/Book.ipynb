{
 "cells": [
  {
   "cell_type": "code",
   "execution_count": 4,
   "id": "d9ff3689",
   "metadata": {},
   "outputs": [],
   "source": [
    "import os \n",
    "os.environ[\"DJANGO_ALLOW_ASYNC_UNSAFE\"] = \"true\""
   ]
  },
  {
   "cell_type": "code",
   "execution_count": 12,
   "id": "871509b2",
   "metadata": {},
   "outputs": [],
   "source": [
    "from books.models import *"
   ]
  },
  {
   "cell_type": "markdown",
   "id": "02124bac",
   "metadata": {},
   "source": [
    "## count"
   ]
  },
  {
   "cell_type": "code",
   "execution_count": 4,
   "id": "d5cc3751",
   "metadata": {},
   "outputs": [
    {
     "data": {
      "text/plain": [
       "59"
      ]
     },
     "execution_count": 4,
     "metadata": {},
     "output_type": "execute_result"
    }
   ],
   "source": [
    "Book.objects.count()"
   ]
  },
  {
   "cell_type": "code",
   "execution_count": 7,
   "id": "40da5544",
   "metadata": {},
   "outputs": [
    {
     "data": {
      "text/plain": [
       "20"
      ]
     },
     "execution_count": 7,
     "metadata": {},
     "output_type": "execute_result"
    }
   ],
   "source": [
    "Book.objects.filter(publisher__name=\"Penguin Books\").count()"
   ]
  },
  {
   "cell_type": "code",
   "execution_count": 8,
   "id": "1bfb8b90",
   "metadata": {},
   "outputs": [],
   "source": [
    "from django.db.models import Avg"
   ]
  },
  {
   "cell_type": "markdown",
   "id": "0517a9a7",
   "metadata": {},
   "source": [
    "## aggreate"
   ]
  },
  {
   "cell_type": "code",
   "execution_count": 10,
   "id": "97f3343a",
   "metadata": {},
   "outputs": [
    {
     "data": {
      "text/plain": [
       "{'price__avg': Decimal('9.7018644067796610')}"
      ]
     },
     "execution_count": 10,
     "metadata": {},
     "output_type": "execute_result"
    }
   ],
   "source": [
    "Book.objects.aggregate(Avg(\"price\", default=0))"
   ]
  },
  {
   "cell_type": "code",
   "execution_count": 11,
   "id": "5e5d048a",
   "metadata": {},
   "outputs": [],
   "source": [
    "from django.db.models import Max"
   ]
  },
  {
   "cell_type": "code",
   "execution_count": 17,
   "id": "29ab4194",
   "metadata": {},
   "outputs": [
    {
     "name": "stdout",
     "output_type": "stream",
     "text": [
      "P_Name Oxford University Press: 9.7464102564102564\n",
      "P_Name Penguin Books: 9.6333333333333333\n"
     ]
    }
   ],
   "source": [
    "publish = Publisher.objects.annotate(avg_price = Avg(\"book__price\"))\n",
    "for p in publish:\n",
    "    print(f\"P_Name {p.name}: {p.avg_price}\")"
   ]
  },
  {
   "cell_type": "markdown",
   "id": "1cdfa0d5",
   "metadata": {},
   "source": [
    "ขึ้นจาก publisher เพื่อ group by ฝั่งนั้น"
   ]
  },
  {
   "cell_type": "code",
   "execution_count": 12,
   "id": "c52c1585",
   "metadata": {},
   "outputs": [
    {
     "data": {
      "text/plain": [
       "{'price__max': Decimal('14.99')}"
      ]
     },
     "execution_count": 12,
     "metadata": {},
     "output_type": "execute_result"
    }
   ],
   "source": [
    "Book.objects.aggregate(Max(\"price\", defalut=0))"
   ]
  },
  {
   "cell_type": "code",
   "execution_count": 13,
   "id": "ec2dd7b2",
   "metadata": {},
   "outputs": [],
   "source": [
    "from books.models import Publisher\n",
    "from django.db.models import Count"
   ]
  },
  {
   "cell_type": "code",
   "execution_count": 18,
   "id": "1e9cabd0",
   "metadata": {},
   "outputs": [],
   "source": [
    "pubs = Publisher.objects.annotate(num_books=Count(\"book\"))"
   ]
  },
  {
   "cell_type": "code",
   "execution_count": 19,
   "id": "7891dace",
   "metadata": {},
   "outputs": [
    {
     "data": {
      "text/plain": [
       "<QuerySet [<Publisher: Publisher object (1)>, <Publisher: Publisher object (2)>]>"
      ]
     },
     "execution_count": 19,
     "metadata": {},
     "output_type": "execute_result"
    }
   ],
   "source": [
    "pubs"
   ]
  },
  {
   "cell_type": "code",
   "execution_count": 21,
   "id": "b603fd03",
   "metadata": {},
   "outputs": [
    {
     "data": {
      "text/plain": [
       "39"
      ]
     },
     "execution_count": 21,
     "metadata": {},
     "output_type": "execute_result"
    }
   ],
   "source": [
    "pubs[1].num_books"
   ]
  },
  {
   "cell_type": "markdown",
   "id": "184fe63c",
   "metadata": {},
   "source": [
    "# Q"
   ]
  },
  {
   "cell_type": "code",
   "execution_count": 22,
   "id": "14188d8d",
   "metadata": {},
   "outputs": [],
   "source": [
    "from django.db.models import Q"
   ]
  },
  {
   "cell_type": "code",
   "execution_count": 24,
   "id": "f98a3ec1",
   "metadata": {},
   "outputs": [],
   "source": [
    "above = Publisher.objects.annotate(above_4 = Count(\"book\", filter=Q(book__rating__gt=4)))"
   ]
  },
  {
   "cell_type": "code",
   "execution_count": 25,
   "id": "dcecf28d",
   "metadata": {},
   "outputs": [],
   "source": [
    "below = Publisher.objects.annotate(below_4 = Count(\"book\", filter=Q(book__rating__lte=4)))"
   ]
  },
  {
   "cell_type": "code",
   "execution_count": 26,
   "id": "c4d1090e",
   "metadata": {},
   "outputs": [
    {
     "data": {
      "text/plain": [
       "16"
      ]
     },
     "execution_count": 26,
     "metadata": {},
     "output_type": "execute_result"
    }
   ],
   "source": [
    "above[0].above_4"
   ]
  },
  {
   "cell_type": "code",
   "execution_count": 27,
   "id": "33be5037",
   "metadata": {},
   "outputs": [
    {
     "data": {
      "text/plain": [
       "4"
      ]
     },
     "execution_count": 27,
     "metadata": {},
     "output_type": "execute_result"
    }
   ],
   "source": [
    "below[0].below_4"
   ]
  },
  {
   "cell_type": "code",
   "execution_count": 30,
   "id": "bc94460a",
   "metadata": {},
   "outputs": [],
   "source": [
    "pub = Publisher.objects.annotate(num_books=Count(\"book\")).order_by(\"-num_books\")[:5]"
   ]
  },
  {
   "cell_type": "code",
   "execution_count": 31,
   "id": "4d3a7db2",
   "metadata": {},
   "outputs": [
    {
     "data": {
      "text/plain": [
       "39"
      ]
     },
     "execution_count": 31,
     "metadata": {},
     "output_type": "execute_result"
    }
   ],
   "source": [
    "pub[0].num_books"
   ]
  },
  {
   "cell_type": "code",
   "execution_count": null,
   "id": "d83356b1",
   "metadata": {},
   "outputs": [],
   "source": []
  }
 ],
 "metadata": {
  "kernelspec": {
   "display_name": "Django Shell-Plus",
   "language": "python",
   "name": "django_extensions"
  },
  "language_info": {
   "codemirror_mode": {
    "name": "ipython",
    "version": 3
   },
   "file_extension": ".py",
   "mimetype": "text/x-python",
   "name": "python",
   "nbconvert_exporter": "python",
   "pygments_lexer": "ipython3",
   "version": "3.12.2"
  }
 },
 "nbformat": 4,
 "nbformat_minor": 5
}
