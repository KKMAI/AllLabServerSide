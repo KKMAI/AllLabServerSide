{
 "cells": [
  {
   "cell_type": "code",
   "execution_count": 1,
   "id": "99b55d64",
   "metadata": {},
   "outputs": [],
   "source": [
    "import os\n",
    "os.environ[\"DJANGO_ALLOW_ASYNC_UNSAFE\"] = \"true\""
   ]
  },
  {
   "cell_type": "code",
   "execution_count": 2,
   "id": "8353a575",
   "metadata": {},
   "outputs": [
    {
     "data": {
      "text/plain": [
       "<Company: Company CCC>"
      ]
     },
     "execution_count": 2,
     "metadata": {},
     "output_type": "execute_result"
    }
   ],
   "source": [
    "from companies.models import Company\n",
    "Company.objects.create(name=\"Company AAA\", num_employees=120, num_chairs=150, num_tables=60)\n",
    "Company.objects.create(name=\"Company BBB\", num_employees=50, num_chairs=30, num_tables=20)\n",
    "Company.objects.create(name=\"Company CCC\", num_employees=100, num_chairs=40, num_tables=40)"
   ]
  },
  {
   "cell_type": "code",
   "execution_count": 3,
   "id": "c97e3b7d",
   "metadata": {},
   "outputs": [],
   "source": [
    "from django.db.models import Count, F, Value\n",
    "from django.db.models.functions import Length, Upper\n",
    "from django.db.models.lookups import GreaterThan"
   ]
  },
  {
   "cell_type": "code",
   "execution_count": 4,
   "id": "69f19998",
   "metadata": {},
   "outputs": [
    {
     "data": {
      "text/plain": [
       "<QuerySet [<Company: Company BBB>, <Company: Company CCC>]>"
      ]
     },
     "execution_count": 4,
     "metadata": {},
     "output_type": "execute_result"
    }
   ],
   "source": [
    "Company.objects.filter(num_employees__gt=F(\"num_chairs\"))"
   ]
  },
  {
   "cell_type": "code",
   "execution_count": 10,
   "id": "936f3c22",
   "metadata": {},
   "outputs": [
    {
     "data": {
      "text/plain": [
       "<QuerySet [<Company: Company CCC>]>"
      ]
     },
     "execution_count": 10,
     "metadata": {},
     "output_type": "execute_result"
    }
   ],
   "source": [
    "Company.objects.filter(num_employees__gt=F(\"num_chairs\") + F(\"num_tables\"))"
   ]
  },
  {
   "cell_type": "code",
   "execution_count": 14,
   "id": "21bf101c",
   "metadata": {},
   "outputs": [
    {
     "data": {
      "text/plain": [
       "<QuerySet [<Company: Company CCC>]>"
      ]
     },
     "execution_count": 14,
     "metadata": {},
     "output_type": "execute_result"
    }
   ],
   "source": [
    "Company.objects.filter(num_employees__gt=F(\"num_chairs\")*2)"
   ]
  },
  {
   "cell_type": "code",
   "execution_count": 13,
   "id": "9e8b5c1a",
   "metadata": {},
   "outputs": [],
   "source": [
    "company = (Company.objects.filter(num_employees__gt=F(\"num_chairs\")).annotate(chairs_needed=F(\"num_employees\")-F(\"num_chairs\")).first())"
   ]
  },
  {
   "cell_type": "code",
   "execution_count": 15,
   "id": "fe3f5c51",
   "metadata": {},
   "outputs": [
    {
     "data": {
      "text/plain": [
       "50"
      ]
     },
     "execution_count": 15,
     "metadata": {},
     "output_type": "execute_result"
    }
   ],
   "source": [
    "company.num_employees"
   ]
  },
  {
   "cell_type": "code",
   "execution_count": 16,
   "id": "1c978960",
   "metadata": {},
   "outputs": [
    {
     "data": {
      "text/plain": [
       "30"
      ]
     },
     "execution_count": 16,
     "metadata": {},
     "output_type": "execute_result"
    }
   ],
   "source": [
    "company.num_chairs"
   ]
  },
  {
   "cell_type": "code",
   "execution_count": 18,
   "id": "f812b97e",
   "metadata": {},
   "outputs": [
    {
     "data": {
      "text/plain": [
       "20"
      ]
     },
     "execution_count": 18,
     "metadata": {},
     "output_type": "execute_result"
    }
   ],
   "source": [
    "company.chairs_needed"
   ]
  },
  {
   "cell_type": "code",
   "execution_count": 5,
   "id": "7b33c3b9",
   "metadata": {},
   "outputs": [],
   "source": [
    "company = Company.objects.create(name=\"Google\", ticker=Upper(Value(\"goog\")))\n",
    "company.refresh_from_db()"
   ]
  },
  {
   "cell_type": "code",
   "execution_count": 7,
   "id": "8c8757ce",
   "metadata": {},
   "outputs": [
    {
     "data": {
      "text/plain": [
       "'GOOG'"
      ]
     },
     "execution_count": 7,
     "metadata": {},
     "output_type": "execute_result"
    }
   ],
   "source": [
    "company.ticker"
   ]
  },
  {
   "cell_type": "code",
   "execution_count": 8,
   "id": "d1cd6f41",
   "metadata": {},
   "outputs": [
    {
     "data": {
      "text/plain": [
       "'Google'"
      ]
     },
     "execution_count": 8,
     "metadata": {},
     "output_type": "execute_result"
    }
   ],
   "source": [
    "company.name"
   ]
  },
  {
   "cell_type": "code",
   "execution_count": 13,
   "id": "230c6181",
   "metadata": {},
   "outputs": [
    {
     "data": {
      "text/plain": [
       "<QuerySet [<Company: Google>, <Company: Company AAA>, <Company: Company BBB>, <Company: Company CCC>]>"
      ]
     },
     "execution_count": 13,
     "metadata": {},
     "output_type": "execute_result"
    }
   ],
   "source": [
    "Company.objects.order_by(Length(\"name\").asc())"
   ]
  },
  {
   "cell_type": "code",
   "execution_count": 14,
   "id": "fb98e569",
   "metadata": {},
   "outputs": [
    {
     "data": {
      "text/plain": [
       "<QuerySet [<Company: Company AAA>, <Company: Company BBB>, <Company: Company CCC>, <Company: Google>]>"
      ]
     },
     "execution_count": 14,
     "metadata": {},
     "output_type": "execute_result"
    }
   ],
   "source": [
    "Company.objects.order_by(Length(\"name\").desc())"
   ]
  },
  {
   "cell_type": "code",
   "execution_count": 15,
   "id": "46a08643",
   "metadata": {},
   "outputs": [
    {
     "data": {
      "text/plain": [
       "<QuerySet [<Company: Company BBB>, <Company: Company CCC>]>"
      ]
     },
     "execution_count": 15,
     "metadata": {},
     "output_type": "execute_result"
    }
   ],
   "source": [
    "Company.objects.filter(GreaterThan(F(\"num_employees\"), F(\"num_chairs\")))"
   ]
  },
  {
   "cell_type": "code",
   "execution_count": 18,
   "id": "04a9e9df",
   "metadata": {},
   "outputs": [
    {
     "data": {
      "text/plain": [
       "<QuerySet [<Company: Company AAA>, <Company: Company BBB>, <Company: Company CCC>, <Company: Google>]>"
      ]
     },
     "execution_count": 18,
     "metadata": {},
     "output_type": "execute_result"
    }
   ],
   "source": [
    "Company.objects.annotate(need_chairs=GreaterThan(F(\"num_employees\"), F(\"num_chairs\")))"
   ]
  }
 ],
 "metadata": {
  "kernelspec": {
   "display_name": "Django Shell-Plus",
   "language": "python",
   "name": "django_extensions"
  },
  "language_info": {
   "codemirror_mode": {
    "name": "ipython",
    "version": 3
   },
   "file_extension": ".py",
   "mimetype": "text/x-python",
   "name": "python",
   "nbconvert_exporter": "python",
   "pygments_lexer": "ipython3",
   "version": "3.12.2"
  }
 },
 "nbformat": 4,
 "nbformat_minor": 5
}
