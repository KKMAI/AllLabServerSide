{
 "cells": [
  {
   "cell_type": "code",
   "execution_count": 1,
   "id": "99b55d64",
   "metadata": {},
   "outputs": [],
   "source": [
    "import os\n",
    "os.environ[\"DJANGO_ALLOW_ASYNC_UNSAFE\"] = \"true\""
   ]
  },
  {
   "cell_type": "code",
   "execution_count": 2,
   "id": "8353a575",
   "metadata": {},
   "outputs": [
    {
     "data": {
      "text/plain": [
       "<Company: Company CCC>"
      ]
     },
     "execution_count": 2,
     "metadata": {},
     "output_type": "execute_result"
    }
   ],
   "source": [
    "from companies.models import Company\n",
    "Company.objects.create(name=\"Company AAA\", num_employees=120, num_chairs=150, num_tables=60)\n",
    "Company.objects.create(name=\"Company BBB\", num_employees=50, num_chairs=30, num_tables=20)\n",
    "Company.objects.create(name=\"Company CCC\", num_employees=100, num_chairs=40, num_tables=40)"
   ]
  },
  {
   "cell_type": "code",
   "execution_count": 3,
   "id": "c97e3b7d",
   "metadata": {},
   "outputs": [],
   "source": [
    "from django.db.models import Count, F, Value\n",
    "from django.db.models.functions import Length, Upper\n",
    "from django.db.models.lookups import GreaterThan"
   ]
  },
  {
   "cell_type": "code",
   "execution_count": 6,
   "id": "69f19998",
   "metadata": {},
   "outputs": [
    {
     "name": "stdout",
     "output_type": "stream",
     "text": [
      "<QuerySet [<Company: Company BBB>, <Company: Company CCC>]>\n"
     ]
    }
   ],
   "source": [
    "com1 = Company.objects.filter(num_employees__gt=F(\"num_chairs\"))\n",
    "print(com1)"
   ]
  },
  {
   "cell_type": "code",
   "execution_count": 7,
   "id": "efc818ee",
   "metadata": {},
   "outputs": [
    {
     "name": "stdout",
     "output_type": "stream",
     "text": [
      "SELECT \"companies_company\".\"id\", \"companies_company\".\"name\", \"companies_company\".\"ticker\", \"companies_company\".\"num_employees\", \"companies_company\".\"num_tables\", \"companies_company\".\"num_chairs\" FROM \"companies_company\" WHERE \"companies_company\".\"num_employees\" > (\"companies_company\".\"num_chairs\")\n"
     ]
    }
   ],
   "source": [
    "print(com1.query)"
   ]
  },
  {
   "cell_type": "code",
   "execution_count": 10,
   "id": "936f3c22",
   "metadata": {},
   "outputs": [
    {
     "data": {
      "text/plain": [
       "<QuerySet [<Company: Company CCC>]>"
      ]
     },
     "execution_count": 10,
     "metadata": {},
     "output_type": "execute_result"
    }
   ],
   "source": [
    "Company.objects.filter(num_employees__gt=F(\"num_chairs\") + F(\"num_tables\"))"
   ]
  },
  {
   "cell_type": "code",
   "execution_count": 14,
   "id": "21bf101c",
   "metadata": {},
   "outputs": [
    {
     "data": {
      "text/plain": [
       "<QuerySet [<Company: Company CCC>]>"
      ]
     },
     "execution_count": 14,
     "metadata": {},
     "output_type": "execute_result"
    }
   ],
   "source": [
    "Company.objects.filter(num_employees__gt=F(\"num_chairs\")*2)"
   ]
  },
  {
   "cell_type": "markdown",
   "id": "ab579ae0",
   "metadata": {},
   "source": [
    "## Annotation"
   ]
  },
  {
   "cell_type": "code",
   "execution_count": 23,
   "id": "9e8b5c1a",
   "metadata": {},
   "outputs": [
    {
     "name": "stdout",
     "output_type": "stream",
     "text": [
      "Company CCC num_employees=60 num_chairs=40 chairs_needed=60\n"
     ]
    }
   ],
   "source": [
    "company = (Company.objects.filter(num_employees__gt=F(\"num_chairs\")\n",
    "            ).annotate(chairs_needed=F(\"num_employees\")-F(\"num_chairs\"))).filter(chairs_needed__gt=50)\n",
    "# print(company)\n",
    "for c in company:\n",
    "    print(f\"{c.name} num_employees={c.chairs_needed} num_chairs={c.num_chairs} chairs_needed={c.chairs_needed}\")"
   ]
  },
  {
   "cell_type": "code",
   "execution_count": 16,
   "id": "cb214c1e",
   "metadata": {},
   "outputs": [
    {
     "name": "stdout",
     "output_type": "stream",
     "text": [
      "SELECT \"companies_company\".\"id\", \"companies_company\".\"name\", \"companies_company\".\"ticker\", \"companies_company\".\"num_employees\", \"companies_company\".\"num_tables\", \"companies_company\".\"num_chairs\", (\"companies_company\".\"num_employees\" - \"companies_company\".\"num_chairs\") AS \"chairs_needed\" FROM \"companies_company\" WHERE (\"companies_company\".\"num_employees\" > (\"companies_company\".\"num_chairs\") AND (\"companies_company\".\"num_employees\" - \"companies_company\".\"num_chairs\") > 50)\n"
     ]
    }
   ],
   "source": [
    "print(company.query)"
   ]
  },
  {
   "cell_type": "code",
   "execution_count": 20,
   "id": "fe3f5c51",
   "metadata": {},
   "outputs": [
    {
     "data": {
      "text/plain": [
       "100"
      ]
     },
     "execution_count": 20,
     "metadata": {},
     "output_type": "execute_result"
    }
   ],
   "source": [
    "company[0].num_employees"
   ]
  },
  {
   "cell_type": "code",
   "execution_count": 16,
   "id": "1c978960",
   "metadata": {},
   "outputs": [
    {
     "data": {
      "text/plain": [
       "30"
      ]
     },
     "execution_count": 16,
     "metadata": {},
     "output_type": "execute_result"
    }
   ],
   "source": [
    "company.num_chairs"
   ]
  },
  {
   "cell_type": "code",
   "execution_count": 18,
   "id": "f812b97e",
   "metadata": {},
   "outputs": [
    {
     "data": {
      "text/plain": [
       "20"
      ]
     },
     "execution_count": 18,
     "metadata": {},
     "output_type": "execute_result"
    }
   ],
   "source": [
    "company.chairs_needed"
   ]
  },
  {
   "cell_type": "code",
   "execution_count": 29,
   "id": "7b33c3b9",
   "metadata": {},
   "outputs": [],
   "source": [
    "company = Company.objects.create(name=\"Google\", ticker=Upper(Value(\"goog\")))\n",
    "company.refresh_from_db()"
   ]
  },
  {
   "cell_type": "code",
   "execution_count": 30,
   "id": "8c8757ce",
   "metadata": {},
   "outputs": [
    {
     "data": {
      "text/plain": [
       "'GOOG'"
      ]
     },
     "execution_count": 30,
     "metadata": {},
     "output_type": "execute_result"
    }
   ],
   "source": [
    "company.ticker"
   ]
  },
  {
   "cell_type": "code",
   "execution_count": 24,
   "id": "9ae150c0",
   "metadata": {},
   "outputs": [
    {
     "name": "stdout",
     "output_type": "stream",
     "text": [
      "SELECT \"companies_company\".\"id\", \"companies_company\".\"name\", \"companies_company\".\"ticker\", \"companies_company\".\"num_employees\", \"companies_company\".\"num_tables\", \"companies_company\".\"num_chairs\", (\"companies_company\".\"num_employees\" - \"companies_company\".\"num_chairs\") AS \"chairs_needed\" FROM \"companies_company\" WHERE (\"companies_company\".\"num_employees\" > (\"companies_company\".\"num_chairs\") AND (\"companies_company\".\"num_employees\" - \"companies_company\".\"num_chairs\") > 50)\n"
     ]
    }
   ],
   "source": [
    "print(company.query)"
   ]
  },
  {
   "cell_type": "markdown",
   "id": "633b0d6b",
   "metadata": {},
   "source": [
    "## Orderby, Lenght"
   ]
  },
  {
   "cell_type": "code",
   "execution_count": 34,
   "id": "60852570",
   "metadata": {},
   "outputs": [
    {
     "data": {
      "text/plain": [
       "<QuerySet [<Company: Google>, <Company: Company CCC>, <Company: Company BBB>, <Company: Company AAA>]>"
      ]
     },
     "execution_count": 34,
     "metadata": {},
     "output_type": "execute_result"
    }
   ],
   "source": [
    "Company.objects.order_by(\"-name\")"
   ]
  },
  {
   "cell_type": "code",
   "execution_count": 31,
   "id": "230c6181",
   "metadata": {},
   "outputs": [
    {
     "data": {
      "text/plain": [
       "<QuerySet [<Company: Google>, <Company: Company AAA>, <Company: Company BBB>, <Company: Company CCC>]>"
      ]
     },
     "execution_count": 31,
     "metadata": {},
     "output_type": "execute_result"
    }
   ],
   "source": [
    "Company.objects.order_by(Length(\"name\").asc())"
   ]
  },
  {
   "cell_type": "code",
   "execution_count": 32,
   "id": "fb98e569",
   "metadata": {},
   "outputs": [
    {
     "data": {
      "text/plain": [
       "<QuerySet [<Company: Company AAA>, <Company: Company BBB>, <Company: Company CCC>, <Company: Google>]>"
      ]
     },
     "execution_count": 32,
     "metadata": {},
     "output_type": "execute_result"
    }
   ],
   "source": [
    "Company.objects.order_by(Length(\"name\").desc())"
   ]
  },
  {
   "cell_type": "code",
   "execution_count": 39,
   "id": "46a08643",
   "metadata": {},
   "outputs": [
    {
     "data": {
      "text/plain": [
       "<QuerySet [<Company: Company BBB>, <Company: Company CCC>]>"
      ]
     },
     "execution_count": 39,
     "metadata": {},
     "output_type": "execute_result"
    }
   ],
   "source": [
    "Company.objects.filter(num_employees__gt=F(\"num_chairs\"))"
   ]
  },
  {
   "cell_type": "code",
   "execution_count": 38,
   "id": "964bf5a6",
   "metadata": {},
   "outputs": [
    {
     "data": {
      "text/plain": [
       "<QuerySet [<Company: Company BBB>, <Company: Company CCC>]>"
      ]
     },
     "execution_count": 38,
     "metadata": {},
     "output_type": "execute_result"
    }
   ],
   "source": [
    "Company.objects.filter(GreaterThan(F(\"num_employees\"), F(\"num_chairs\")))"
   ]
  },
  {
   "cell_type": "markdown",
   "id": "ff78f745",
   "metadata": {},
   "source": [
    "## Greater than return True False"
   ]
  },
  {
   "cell_type": "code",
   "execution_count": 43,
   "id": "04a9e9df",
   "metadata": {},
   "outputs": [
    {
     "name": "stdout",
     "output_type": "stream",
     "text": [
      "Company AAA num_employees=120 num_chairs=150 chairs_needed=False\n",
      "Company BBB num_employees=50 num_chairs=30 chairs_needed=True\n",
      "Company CCC num_employees=100 num_chairs=40 chairs_needed=True\n",
      "Google num_employees=0 num_chairs=0 chairs_needed=False\n"
     ]
    }
   ],
   "source": [
    "company = Company.objects.annotate(need_chairs=GreaterThan(F(\"num_employees\"), F(\"num_chairs\")))\n",
    "for c in company:\n",
    "    print(f\"{c.name} num_employees={c.num_employees} num_chairs={c.num_chairs} chairs_needed={c.need_chairs}\")"
   ]
  },
  {
   "cell_type": "code",
   "execution_count": null,
   "id": "53479217",
   "metadata": {},
   "outputs": [],
   "source": []
  }
 ],
 "metadata": {
  "kernelspec": {
   "display_name": "Django Shell-Plus",
   "language": "python",
   "name": "django_extensions"
  },
  "language_info": {
   "codemirror_mode": {
    "name": "ipython",
    "version": 3
   },
   "file_extension": ".py",
   "mimetype": "text/x-python",
   "name": "python",
   "nbconvert_exporter": "python",
   "pygments_lexer": "ipython3",
   "version": "3.12.2"
  }
 },
 "nbformat": 4,
 "nbformat_minor": 5
}
