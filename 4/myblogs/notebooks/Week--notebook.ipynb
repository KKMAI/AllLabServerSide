{
 "cells": [
  {
   "cell_type": "code",
   "execution_count": 9,
   "id": "e90686b8",
   "metadata": {},
   "outputs": [],
   "source": [
    "import os\n",
    "os.environ[\"DJANGO_ALLOW_ASYNC_UNSAFE\"] = \"true\"\n"
   ]
  },
  {
   "cell_type": "code",
   "execution_count": 10,
   "id": "8fd0877e",
   "metadata": {},
   "outputs": [
    {
     "name": "stdout",
     "output_type": "stream",
     "text": [
      "New name\n",
      "Cheddar Talk\n"
     ]
    }
   ],
   "source": [
    "from blogs.models import Blog\n",
    "\n",
    "for blog in Blog.objects.all():\n",
    "    print(blog)"
   ]
  },
  {
   "cell_type": "code",
   "execution_count": null,
   "id": "464e0f48",
   "metadata": {},
   "outputs": [],
   "source": []
  },
  {
   "cell_type": "code",
   "execution_count": null,
   "id": "faea125e",
   "metadata": {},
   "outputs": [],
   "source": [
    "a = 100 "
   ]
  },
  {
   "cell_type": "code",
   "execution_count": null,
   "id": "50171a87",
   "metadata": {},
   "outputs": [
    {
     "name": "stdout",
     "output_type": "stream",
     "text": [
      "100\n"
     ]
    }
   ],
   "source": [
    "print(a)"
   ]
  },
  {
   "cell_type": "code",
   "execution_count": 12,
   "id": "6e542800",
   "metadata": {},
   "outputs": [],
   "source": [
    "b1 = Blog(name=\"My Blog 1\", tagline=\"This is My Blog 1\")\n",
    "b1.save()"
   ]
  },
  {
   "cell_type": "code",
   "execution_count": 13,
   "id": "9454e400",
   "metadata": {},
   "outputs": [],
   "source": [
    ">>> b2 = Blog(name=\"My Blog 2\", tagline=\"This is My Blog 2\")\n",
    ">>> b2.save()"
   ]
  },
  {
   "cell_type": "code",
   "execution_count": 14,
   "id": "52526228",
   "metadata": {},
   "outputs": [],
   "source": [
    "b3 = Blog(name=\"My Blog 3\", tagline=\"This is My Blog 3\")\n",
    "b3.save()"
   ]
  },
  {
   "cell_type": "code",
   "execution_count": 16,
   "id": "d4ae6e61",
   "metadata": {},
   "outputs": [],
   "source": [
    ">>> from blogs.models import Author\n",
    ">>> jim = Author.objects.create(name=\"Jim\")"
   ]
  },
  {
   "cell_type": "code",
   "execution_count": 17,
   "id": "4c1ef181",
   "metadata": {},
   "outputs": [],
   "source": [
    "jane = Author.objects.create(name=\"Jane\")"
   ]
  },
  {
   "cell_type": "code",
   "execution_count": 20,
   "id": "b58c7617",
   "metadata": {},
   "outputs": [],
   "source": [
    "b1.name=\"My blog 4\"\n",
    "b1.tagline = \"This is My Blog 4\"\n",
    "b1.save()"
   ]
  },
  {
   "cell_type": "code",
   "execution_count": 21,
   "id": "4c4e7b8f",
   "metadata": {},
   "outputs": [],
   "source": [
    "from blogs.models import Blog, Entry\n",
    "from datetime import datetime\n",
    "e1 = Entry(blog=b1,\n",
    "             headline=\"Headline1\",\n",
    "             body_text=\"Brabrabra\",\n",
    "             pub_date=datetime(2024,1,1))\n",
    "e1.save()"
   ]
  },
  {
   "cell_type": "code",
   "execution_count": 26,
   "id": "25cfa153",
   "metadata": {},
   "outputs": [],
   "source": [
    "e1.blog_id = 1\n",
    "e1.save()"
   ]
  },
  {
   "cell_type": "code",
   "execution_count": 27,
   "id": "40e64923",
   "metadata": {},
   "outputs": [],
   "source": [
    "from blogs.models import Author\n",
    "e1.authors.add(jane, jim)"
   ]
  },
  {
   "cell_type": "code",
   "execution_count": 28,
   "id": "3d059e75",
   "metadata": {},
   "outputs": [],
   "source": [
    "jane.entry_set.add(e1)"
   ]
  },
  {
   "cell_type": "code",
   "execution_count": 32,
   "id": "dddb1345",
   "metadata": {},
   "outputs": [
    {
     "data": {
      "text/plain": [
       "<QuerySet [<Entry: Headline1>]>"
      ]
     },
     "execution_count": 32,
     "metadata": {},
     "output_type": "execute_result"
    }
   ],
   "source": [
    "Entry.objects.all() # SELECT * FROM entry;"
   ]
  },
  {
   "cell_type": "code",
   "execution_count": 35,
   "id": "b8071ab9",
   "metadata": {},
   "outputs": [
    {
     "data": {
      "text/plain": [
       "<QuerySet [<Blog: My Blog 1>, <Blog: My Blog 2>, <Blog: My Blog 3>, <Blog: My blog 4>]>"
      ]
     },
     "execution_count": 35,
     "metadata": {},
     "output_type": "execute_result"
    }
   ],
   "source": [
    "Blog.objects.filter(name__startswith=\"My\")"
   ]
  },
  {
   "cell_type": "code",
   "execution_count": 36,
   "id": "d5e3f148",
   "metadata": {},
   "outputs": [
    {
     "data": {
      "text/plain": [
       "<QuerySet [<Blog: New name>, <Blog: Cheddar Talk>]>"
      ]
     },
     "execution_count": 36,
     "metadata": {},
     "output_type": "execute_result"
    }
   ],
   "source": [
    "Blog.objects.exclude(name__startswith=\"My\")"
   ]
  },
  {
   "cell_type": "code",
   "execution_count": 42,
   "id": "92646b10",
   "metadata": {},
   "outputs": [
    {
     "data": {
      "text/plain": [
       "<Blog: My Blog 3>"
      ]
     },
     "execution_count": 42,
     "metadata": {},
     "output_type": "execute_result"
    }
   ],
   "source": [
    "Blog.objects.last()"
   ]
  },
  {
   "cell_type": "code",
   "execution_count": 43,
   "id": "9838246c",
   "metadata": {},
   "outputs": [],
   "source": [
    "e1 = Entry(blog=b1,\n",
    "             headline=\"Headline2\",\n",
    "             body_text=\"Brabrabra2\",\n",
    "             pub_date=datetime(2024,1,2))\n",
    "e1.save()"
   ]
  },
  {
   "cell_type": "code",
   "execution_count": 44,
   "id": "ba983866",
   "metadata": {},
   "outputs": [],
   "source": [
    "e1 = Entry(blog=b1,\n",
    "             headline=\"Beautiful Girl\",\n",
    "             body_text=\"I want\",\n",
    "             pub_date=datetime(2024,1,3))\n",
    "e1.save()"
   ]
  },
  {
   "cell_type": "code",
   "execution_count": 46,
   "id": "d279a433",
   "metadata": {},
   "outputs": [],
   "source": [
    "blog = Blog(name=\"My blog\", tagline=\"Blogging is easy\")\n",
    "blog.save()  # blog.pk == 1\n",
    "\n"
   ]
  },
  {
   "cell_type": "code",
   "execution_count": 48,
   "id": "24824790",
   "metadata": {},
   "outputs": [],
   "source": [
    "blog.pk = None\n",
    "blog._state.adding = True\n",
    "blog.save()  # blog.pk == 2\n"
   ]
  },
  {
   "cell_type": "code",
   "execution_count": 61,
   "id": "bb1286bd",
   "metadata": {},
   "outputs": [
    {
     "name": "stdout",
     "output_type": "stream",
     "text": [
      "New name\n",
      "Cheddar Talk\n",
      "My Blog 2\n",
      "My Blog 3\n",
      "My blog 4\n",
      "My blog\n",
      "My blog\n"
     ]
    }
   ],
   "source": [
    "for p in Blog.objects.raw(\"SELECT * FROM blogs_blog\"):\n",
    "    print(p)"
   ]
  },
  {
   "cell_type": "code",
   "execution_count": 66,
   "id": "9a1a374f",
   "metadata": {},
   "outputs": [
    {
     "name": "stdout",
     "output_type": "stream",
     "text": [
      "SELECT \"blogs_blog\".\"id\", \"blogs_blog\".\"name\", \"blogs_blog\".\"tagline\" FROM \"blogs_blog\" WHERE \"blogs_blog\".\"name\" IN (M, y,  , B, l, o, g)\n"
     ]
    }
   ],
   "source": [
    "test_blog = Blog.objects.filter(name__in=('My Blog'))\n",
    "print(test_blog.query)"
   ]
  },
  {
   "cell_type": "code",
   "execution_count": 67,
   "id": "de2605bf",
   "metadata": {},
   "outputs": [
    {
     "name": "stdout",
     "output_type": "stream",
     "text": [
      "SELECT \"blogs_entry\".\"id\", \"blogs_entry\".\"blog_id\", \"blogs_entry\".\"headline\", \"blogs_entry\".\"body_text\", \"blogs_entry\".\"pub_date\", \"blogs_entry\".\"mod_date\", \"blogs_entry\".\"number_of_comments\", \"blogs_entry\".\"number_of_pingbacks\", \"blogs_entry\".\"rating\" FROM \"blogs_entry\" WHERE \"blogs_entry\".\"rating\" < (\"blogs_entry\".\"number_of_comments\" + \"blogs_entry\".\"number_of_pingbacks\")\n"
     ]
    }
   ],
   "source": [
    "try_entry = Entry.objects.filter(rating__lt=F(\"number_of_comments\") + F(\"number_of_pingbacks\"))\n",
    "print(try_entry.query)"
   ]
  },
  {
   "cell_type": "code",
   "execution_count": null,
   "id": "c0ed71f0",
   "metadata": {},
   "outputs": [],
   "source": [
    "Poll.objects.get(\n",
    "    Q(question"
   ]
  }
 ],
 "metadata": {
  "kernelspec": {
   "display_name": "Django Shell-Plus",
   "language": "python",
   "name": "django_extensions"
  },
  "language_info": {
   "codemirror_mode": {
    "name": "ipython",
    "version": 3
   },
   "file_extension": ".py",
   "mimetype": "text/x-python",
   "name": "python",
   "nbconvert_exporter": "python",
   "pygments_lexer": "ipython3",
   "version": "3.12.2"
  }
 },
 "nbformat": 4,
 "nbformat_minor": 5
}
