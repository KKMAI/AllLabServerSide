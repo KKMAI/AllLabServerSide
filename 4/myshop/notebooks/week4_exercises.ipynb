{
 "cells": [
  {
   "cell_type": "markdown",
   "metadata": {},
   "source": [
    "# WEEK 4 Exercises - Making Queries\n",
    "\n",
    "![ERD-E-COMMERCE](https://github.com/it-web-pro/django-week4/blob/main/images/WEEK3-ERD(e-commerce).png?raw=true)"
   ]
  },
  {
   "cell_type": "markdown",
   "metadata": {},
   "source": [
    "**ให้นักศึกษาสร้างโปรเจคใหม่ใหม่ชื่อ`myshop`**\n",
    "\n",
    "**จากนั้นให้ทำการ startapp ใหม่ชื่อ `shop`**"
   ]
  },
  {
   "cell_type": "markdown",
   "metadata": {},
   "source": [
    "**ให้นักศึกษาทำการเพิ่ม model นี้ในไฟล์ shop/models.py**"
   ]
  },
  {
   "cell_type": "code",
   "execution_count": null,
   "metadata": {},
   "outputs": [],
   "source": [
    "from django.db import models\n",
    "\n",
    "# Create your models here.\n",
    "\n",
    "\n",
    "class Customer(models.Model):\n",
    "    first_name = models.CharField(max_length=150)\n",
    "    last_name = models.CharField(max_length=200)\n",
    "    email = models.CharField(max_length=150)\n",
    "    address = models.JSONField(null=True)\n",
    "\n",
    "class ProductCategory(models.Model):\n",
    "    name = models.CharField(max_length=150)\n",
    "\n",
    "class Product(models.Model):\n",
    "    name = models.CharField(max_length=150)\n",
    "    description = models.TextField(null=True, blank=True)\n",
    "    remaining_amount = models.PositiveIntegerField(default=0)\n",
    "    price = models.DecimalField(max_digits=10, decimal_places=2)\n",
    "    categories = models.ManyToManyField(ProductCategory)\n",
    "\n",
    "class Cart(models.Model):\n",
    "    customer = models.ForeignKey(Customer, on_delete=models.CASCADE)\n",
    "    create_date = models.DateTimeField()\n",
    "    expired_in = models.PositiveIntegerField(default=60)\n",
    "    \n",
    "class CartItem(models.Model):\n",
    "    cart = models.ForeignKey(Cart, on_delete=models.CASCADE)\n",
    "    product = models.ForeignKey(Product, on_delete=models.CASCADE)\n",
    "    amount = models.PositiveIntegerField(default=1)\n",
    "    \n",
    "class Order(models.Model):\n",
    "    customer = models.ForeignKey(Customer, on_delete=models.CASCADE)\n",
    "    order_date = models.DateField()\n",
    "    remark = models.TextField(null=True, blank=True)\n",
    "\n",
    "class OrderItem(models.Model):\n",
    "    order = models.ForeignKey(Order, on_delete=models.CASCADE)\n",
    "    product = models.ForeignKey(Product, on_delete=models.CASCADE)\n",
    "    amount = models.PositiveIntegerField(default=1)\n",
    "    \n",
    "class Payment(models.Model):\n",
    "    order = models.OneToOneField(Order, on_delete=models.PROTECT)\n",
    "    payment_date = models.DateField()\n",
    "    remark = models.TextField(null=True, blank=True)\n",
    "    price = models.DecimalField(max_digits=10, decimal_places=2)\n",
    "    discount = models.DecimalField(max_digits=10, decimal_places=2, default=0)\n",
    "\n",
    "class PaymentItem(models.Model):\n",
    "    payment = models.ForeignKey(Payment, on_delete=models.CASCADE)\n",
    "    order_item = models.OneToOneField(OrderItem, on_delete=models.CASCADE)\n",
    "    price = models.DecimalField(max_digits=10, decimal_places=2)\n",
    "    discount = models.DecimalField(max_digits=10, decimal_places=2, default=0)\n",
    "    \n",
    "class PaymentMethod(models.Model):\n",
    "    class MethodChoices(models.Choices):\n",
    "        QR = \"QR\"\n",
    "        CREDIT = \"CREDIT\"\n",
    "    \n",
    "    payment = models.ForeignKey(Payment, on_delete=models.CASCADE)\n",
    "    method = models.CharField(max_length=15, choices=MethodChoices.choices)\n",
    "    price = models.DecimalField(max_digits=10, decimal_places=2)"
   ]
  },
  {
   "cell_type": "markdown",
   "metadata": {},
   "source": [
    "**จากนั้นให้ทำการ migrate และ run คำสั่งในไฟล์ shop.sql**"
   ]
  },
  {
   "cell_type": "code",
   "execution_count": 3,
   "metadata": {},
   "outputs": [],
   "source": [
    "import os\n",
    "os.environ[\"DJANGO_ALLOW_ASYNC_UNSAFE\"] = \"true\""
   ]
  },
  {
   "cell_type": "markdown",
   "metadata": {},
   "source": [
    "### 1. ให้นักศึกษา Query ค้นหาข้อมูลมาแสดงให้ถูกต้องตามโจทย์\n",
    "\n",
    "1.1 query หาข้อมูล `Order` ทั้งหมดที่เกิดขึ้นในเดือน `พฤษภาคม` และ`ราคา`ของ Order มาแสดงผล 10 รายการแรก และแสดงผลดังตัวอย่าง (0.5 คะแนน)\n",
    "\n",
    "```txt\n",
    "ORDER ID:22, DATE: 2024-05-01, PRICE: 4890.00\n",
    "ORDER ID:23, DATE: 2024-05-01, PRICE: 2540.00\n",
    "ORDER ID:24, DATE: 2024-05-01, PRICE: 1720.00\n",
    "ORDER ID:25, DATE: 2024-05-02, PRICE: 322499.00\n",
    "ORDER ID:26, DATE: 2024-05-02, PRICE: 3399.00\n",
    "ORDER ID:27, DATE: 2024-05-02, PRICE: 1190.00\n",
    "ORDER ID:28, DATE: 2024-05-03, PRICE: 9499.00\n",
    "ORDER ID:29, DATE: 2024-05-03, PRICE: 700.00\n",
    "ORDER ID:30, DATE: 2024-05-03, PRICE: 1690.00\n",
    "ORDER ID:31, DATE: 2024-05-04, PRICE: 3280.00\n",
    "```"
   ]
  },
  {
   "cell_type": "code",
   "execution_count": 14,
   "metadata": {},
   "outputs": [
    {
     "name": "stdout",
     "output_type": "stream",
     "text": [
      "ORDER ID:22, DATE: 2024-05-01\n",
      "ORDER ID:23, DATE: 2024-05-01\n",
      "ORDER ID:24, DATE: 2024-05-01\n",
      "ORDER ID:25, DATE: 2024-05-02\n",
      "ORDER ID:26, DATE: 2024-05-02\n",
      "ORDER ID:27, DATE: 2024-05-02\n",
      "ORDER ID:28, DATE: 2024-05-03\n",
      "ORDER ID:30, DATE: 2024-05-03\n",
      "ORDER ID:31, DATE: 2024-05-04\n",
      "ORDER ID:32, DATE: 2024-05-04\n"
     ]
    }
   ],
   "source": [
    "from shop.models import *\n",
    "for order in Order.objects.filter(order_date__month = 5, payment__price__gt=1000)[:10]:\n",
    "    print(f\"ORDER ID:{order.id}, DATE: {order.order_date}\")"
   ]
  },
  {
   "cell_type": "markdown",
   "metadata": {},
   "source": [
    "1.2 query หาข้อมูล `Product` ที่มีคำลงท้ายว่า `features.` ในรายละเอียดสินค้า และแสดงผลดังตัวอย่าง (0.5 คะแนน)\n",
    "\n",
    "```txt\n",
    "PRODUCT ID: 1, DESCRIPTION: A sleek and powerful smartphone with advanced features.\n",
    "PRODUCT ID: 7, DESCRIPTION: High-resolution digital camera with advanced photography features.\n",
    "PRODUCT ID: 10, DESCRIPTION: A stylish smartwatch with health monitoring and notification features.\n",
    "PRODUCT ID: 14, DESCRIPTION: Split air conditioner with remote control and energy-saving features.\n",
    "PRODUCT ID: 45, DESCRIPTION: Customizable racing track set with loop and jump features.\n",
    "```"
   ]
  },
  {
   "cell_type": "code",
   "execution_count": 66,
   "metadata": {},
   "outputs": [
    {
     "name": "stdout",
     "output_type": "stream",
     "text": [
      "PRODUCT ID: 2, DESCRIPTION: A lightweight and high-performance laptop for professionals.\n",
      "PRODUCT ID: 3, DESCRIPTION: An ultra-HD smart television with streaming capabilities.\n",
      "PRODUCT ID: 4, DESCRIPTION: Wireless earphones with noise-canceling technology.\n",
      "PRODUCT ID: 5, DESCRIPTION: A compact tablet for entertainment and productivity.\n",
      "PRODUCT ID: 6, DESCRIPTION: A powerful gaming console with immersive graphics.\n",
      "PRODUCT ID: 8, DESCRIPTION: High-speed wireless router for home or office use.\n",
      "PRODUCT ID: 9, DESCRIPTION: Compact and portable power bank for charging devices on the go.\n",
      "PRODUCT ID: 11, DESCRIPTION: Energy-efficient refrigerator with ample storage space.\n",
      "PRODUCT ID: 12, DESCRIPTION: Front-loading washing machine with multiple wash programs.\n",
      "PRODUCT ID: 13, DESCRIPTION: Compact microwave oven with defrost and cooking functions.\n",
      "PRODUCT ID: 15, DESCRIPTION: Powerful vacuum cleaner for efficient cleaning.\n",
      "PRODUCT ID: 16, DESCRIPTION: Fast-boiling electric kettle with auto shut-off feature.\n",
      "PRODUCT ID: 17, DESCRIPTION: Four-slice toaster with adjustable browning settings.\n",
      "PRODUCT ID: 18, DESCRIPTION: Oscillating electric fan for cooling rooms.\n",
      "PRODUCT ID: 19, DESCRIPTION: Automatic rice cooker with keep-warm function.\n",
      "PRODUCT ID: 20, DESCRIPTION: Steam iron with non-stick soleplate for wrinkle-free clothes.\n",
      "PRODUCT ID: 21, DESCRIPTION: Comfortable cotton t-shirt for everyday wear.\n",
      "PRODUCT ID: 22, DESCRIPTION: Slim-fit jeans made from stretch denim.\n",
      "PRODUCT ID: 23, DESCRIPTION: Warm and cozy hoodie with front pocket.\n",
      "PRODUCT ID: 24, DESCRIPTION: Elegant knee-length dress for special occasions.\n",
      "PRODUCT ID: 25, DESCRIPTION: Classic button-down shirt suitable for formal wear.\n",
      "PRODUCT ID: 26, DESCRIPTION: Breathable shorts for workouts and sports.\n",
      "PRODUCT ID: 27, DESCRIPTION: Collared polo shirt with moisture-wicking fabric.\n",
      "PRODUCT ID: 28, DESCRIPTION: Soft and cozy sweater for chilly weather.\n",
      "PRODUCT ID: 29, DESCRIPTION: Adjustable baseball cap for casual outings.\n",
      "PRODUCT ID: 30, DESCRIPTION: Casual shorts with multiple pockets.\n",
      "PRODUCT ID: 31, DESCRIPTION: Comfortable three-seater sofa with fabric upholstery.\n",
      "PRODUCT ID: 32, DESCRIPTION: Solid wood dining table with extendable leaf.\n",
      "PRODUCT ID: 33, DESCRIPTION: Queen-size bed frame with storage drawers.\n",
      "PRODUCT ID: 34, DESCRIPTION: Large wardrobe with sliding doors and ample storage space.\n",
      "PRODUCT ID: 35, DESCRIPTION: Modern coffee table with glass top and wooden legs.\n",
      "PRODUCT ID: 36, DESCRIPTION: Tall bookshelf with adjustable shelves.\n",
      "PRODUCT ID: 37, DESCRIPTION: Ergonomic desk chair with lumbar support.\n",
      "PRODUCT ID: 38, DESCRIPTION: Entertainment center with shelves and cabinets.\n",
      "PRODUCT ID: 39, DESCRIPTION: Bedside table with drawers for storage.\n",
      "PRODUCT ID: 40, DESCRIPTION: Adjustable bar stool with swivel seat.\n",
      "PRODUCT ID: 41, DESCRIPTION: Set of 790 colorful LEGO bricks for creative building.\n",
      "PRODUCT ID: 42, DESCRIPTION: Rotating barrel blaster with slam-fire action.\n",
      "PRODUCT ID: 43, DESCRIPTION: Three-story Barbie dollhouse with furniture and accessories.\n",
      "PRODUCT ID: 44, DESCRIPTION: Classic board game of buying, trading, and strategy.\n",
      "PRODUCT ID: 46, DESCRIPTION: Interactive chair with songs, phrases, and learning activities.\n",
      "PRODUCT ID: 47, DESCRIPTION: Classic block-stacking game for parties and gatherings.\n",
      "PRODUCT ID: 48, DESCRIPTION: Play-Doh extruder set for creating fun shapes and designs.\n",
      "PRODUCT ID: 49, DESCRIPTION: Musical toy with lights and 7 classical melodies.\n",
      "PRODUCT ID: 50, DESCRIPTION: Paw Patrol fire truck toy with extendable ladder and lights.\n",
      "PRODUCT ID: 51, DESCRIPTION: Soft and cozy bed for medium-sized dogs.\n",
      "PRODUCT ID: 52, DESCRIPTION: Multi-level cat tree with scratching posts and perches.\n",
      "PRODUCT ID: 53, DESCRIPTION: Stainless steel bowls with non-skid base for cats and small dogs.\n",
      "PRODUCT ID: 54, DESCRIPTION: Programmable feeder for cats and dogs with portion control.\n",
      "PRODUCT ID: 55, DESCRIPTION: Adjustable harness and leash set for medium-sized dogs.\n",
      "PRODUCT ID: 56, DESCRIPTION: Large litter box with hood and carbon filter.\n",
      "PRODUCT ID: 57, DESCRIPTION: Set of grooming tools for cats and small dogs.\n",
      "PRODUCT ID: 58, DESCRIPTION: Complete starter kit for freshwater fish aquariums.\n",
      "PRODUCT ID: 59, DESCRIPTION: Spacious cage suitable for small to medium-sized birds.\n",
      "PRODUCT ID: 60, DESCRIPTION: Portable playpen for rabbits, guinea pigs, and other small pets.\n",
      "PRODUCT ID: 61, DESCRIPTION: Classic round-cut diamond earrings in 14k white gold.\n",
      "PRODUCT ID: 62, DESCRIPTION: Sterling silver bracelet with various charms.\n",
      "PRODUCT ID: 63, DESCRIPTION: 14k yellow gold pendant necklace with chain.\n",
      "PRODUCT ID: 64, DESCRIPTION: Emerald-cut amethyst ring in sterling silver.\n",
      "PRODUCT ID: 65, DESCRIPTION: Small hoop earrings in 14k rose gold.\n",
      "PRODUCT ID: 69, DESCRIPTION: Display Screen. 16.0s\n"
     ]
    }
   ],
   "source": [
    "for product in Product.objects.exclude(description__endswith = \"features.\"):\n",
    "    print(f\"PRODUCT ID: {product.id}, DESCRIPTION: {product.description}\")"
   ]
  },
  {
   "cell_type": "markdown",
   "metadata": {},
   "source": [
    "1.3 query หาข้อมูล `Product` ที่มีราคาสินค้าตั้งแต่ `5000.00` ขึ้นไป และแสดงผลดังตัวอย่าง (0.5 คะแนน)\n",
    "\n",
    "```txt\n",
    "PRODUCT ID: 1, NAME: Smartphone, PRICE: 5900.00\n",
    "PRODUCT ID: 2, NAME: Laptop, PRICE: 25999.00\n",
    "PRODUCT ID: 3, NAME: Smart TV, PRICE: 8900.00\n",
    "PRODUCT ID: 5, NAME: Tablet, PRICE: 12900.00\n",
    "PRODUCT ID: 6, NAME: Gaming Console, PRICE: 5000.00\n",
    "PRODUCT ID: 7, NAME: Digital Camera, PRICE: 32000.00\n",
    "PRODUCT ID: 11, NAME: Refrigerator, PRICE: 9000.00\n",
    "PRODUCT ID: 14, NAME: Air Conditioner, PRICE: 18900.00\n",
    "PRODUCT ID: 31, NAME: Sofa, PRICE: 7000.00\n",
    "PRODUCT ID: 54, NAME: Automatic Pet Feeder, PRICE: 7900.00\n",
    "PRODUCT ID: 61, NAME: Diamond Stud Earrings, PRICE: 320000.00\n",
    "PRODUCT ID: 62, NAME: Silver Charm Bracelet, PRICE: 70000.00\n",
    "PRODUCT ID: 63, NAME: Gold Pendant Necklace, PRICE: 59000.00\n",
    "PRODUCT ID: 64, NAME: Gemstone Ring, PRICE: 9000.00\n",
    "PRODUCT ID: 65, NAME: Rose Gold Hoop Earrings, PRICE: 1200000.00\n",
    "```"
   ]
  },
  {
   "cell_type": "code",
   "execution_count": 68,
   "metadata": {},
   "outputs": [
    {
     "name": "stdout",
     "output_type": "stream",
     "text": [
      "PRODUCT ID: 4, NAME: Bluetooth Earphones, PRICE: 350.00\n",
      "PRODUCT ID: 8, NAME: Wireless Router, PRICE: 990.00\n",
      "PRODUCT ID: 9, NAME: Portable Power Bank, PRICE: 390.00\n",
      "PRODUCT ID: 10, NAME: Smartwatch, PRICE: 4500.00\n",
      "PRODUCT ID: 12, NAME: Washing Machine, PRICE: 3900.00\n",
      "PRODUCT ID: 13, NAME: Microwave Oven, PRICE: 1290.00\n",
      "PRODUCT ID: 15, NAME: Vacuum Cleaner, PRICE: 4000.00\n",
      "PRODUCT ID: 16, NAME: Electric Kettle, PRICE: 2499.00\n",
      "PRODUCT ID: 17, NAME: Toaster, PRICE: 390.00\n",
      "PRODUCT ID: 18, NAME: Electric Fan, PRICE: 290.00\n",
      "PRODUCT ID: 19, NAME: Rice Cooker, PRICE: 690.00\n",
      "PRODUCT ID: 20, NAME: Electric Iron, PRICE: 1200.00\n",
      "PRODUCT ID: 21, NAME: Men's T-Shirt, PRICE: 200.00\n",
      "PRODUCT ID: 22, NAME: Women's Jeans, PRICE: 450.00\n",
      "PRODUCT ID: 23, NAME: Unisex Hoodie, PRICE: 239.00\n",
      "PRODUCT ID: 24, NAME: Women's Dress, PRICE: 3200.00\n",
      "PRODUCT ID: 25, NAME: Men's Formal Shirt, PRICE: 690.00\n",
      "PRODUCT ID: 26, NAME: Women's Athletic Shorts, PRICE: 700.00\n",
      "PRODUCT ID: 27, NAME: Men's Polo Shirt, PRICE: 450.00\n",
      "PRODUCT ID: 28, NAME: Women's Sweater, PRICE: 190.00\n",
      "PRODUCT ID: 29, NAME: Unisex Cap, PRICE: 200.00\n",
      "PRODUCT ID: 30, NAME: Men's Shorts, PRICE: 300.00\n",
      "PRODUCT ID: 32, NAME: Dining Table, PRICE: 690.00\n",
      "PRODUCT ID: 33, NAME: Bed Frame, PRICE: 3190.00\n",
      "PRODUCT ID: 34, NAME: Wardrobe, PRICE: 2400.00\n",
      "PRODUCT ID: 35, NAME: Coffee Table, PRICE: 499.00\n",
      "PRODUCT ID: 36, NAME: Bookshelf, PRICE: 399.00\n",
      "PRODUCT ID: 37, NAME: Desk Chair, PRICE: 1420.00\n",
      "PRODUCT ID: 38, NAME: TV Stand, PRICE: 500.00\n",
      "PRODUCT ID: 39, NAME: Nightstand, PRICE: 280.00\n",
      "PRODUCT ID: 40, NAME: Bar Stool, PRICE: 1250.00\n",
      "PRODUCT ID: 41, NAME: LEGO Classic Large Creative Brick Box, PRICE: 790.00\n",
      "PRODUCT ID: 42, NAME: Nerf N-Strike Elite Strongarm Blaster, PRICE: 300.00\n",
      "PRODUCT ID: 43, NAME: Barbie Dreamhouse, PRICE: 300.00\n",
      "PRODUCT ID: 44, NAME: Monopoly Classic Board Game, PRICE: 500.00\n",
      "PRODUCT ID: 45, NAME: Hot Wheels Track Builder System Race Crate, PRICE: 999.00\n",
      "PRODUCT ID: 46, NAME: Fisher-Price Laugh & Learn Smart Stages Chair, PRICE: 800.00\n",
      "PRODUCT ID: 47, NAME: Jenga Classic Game, PRICE: 500.00\n",
      "PRODUCT ID: 48, NAME: Play-Doh Fun Factory Deluxe Set, PRICE: 450.00\n",
      "PRODUCT ID: 49, NAME: Baby Einstein Take Along Tunes Musical Toy, PRICE: 200.00\n",
      "PRODUCT ID: 50, NAME: Paw Patrol Ultimate Rescue Fire Truck, PRICE: 500.00\n",
      "PRODUCT ID: 51, NAME: Dog Bed, PRICE: 2190.00\n",
      "PRODUCT ID: 52, NAME: Cat Tree Tower, PRICE: 4000.00\n",
      "PRODUCT ID: 53, NAME: Pet Food Bowl Set, PRICE: 90.00\n",
      "PRODUCT ID: 55, NAME: Dog Leash and Harness Set, PRICE: 300.00\n",
      "PRODUCT ID: 56, NAME: Cat Litter Box, PRICE: 1900.00\n",
      "PRODUCT ID: 57, NAME: Pet Grooming Kit, PRICE: 3000.00\n",
      "PRODUCT ID: 58, NAME: Fish Tank Starter Kit, PRICE: 990.00\n",
      "PRODUCT ID: 59, NAME: Bird Cage, PRICE: 700.00\n",
      "PRODUCT ID: 60, NAME: Small Animal Playpen, PRICE: 350.00\n",
      "PRODUCT ID: 69, NAME: Notebook HP Pavilion Silver, PRICE: 2000.00\n"
     ]
    }
   ],
   "source": [
    "for product in Product.objects.filter(price__lt=5000.00):\n",
    "    print(f\"PRODUCT ID: {product.id}, NAME: {product.name}, PRICE: {product.price}\")"
   ]
  },
  {
   "cell_type": "markdown",
   "metadata": {},
   "source": [
    "1.4 query หาข้อมูล `Product` ที่มีราคาสินค้าน้อยกว่า `200.00` และมากกว่า `100.00` และแสดงผลดังตัวอย่าง (0.5 คะแนน)\n",
    "\n",
    "```txt\n",
    "PRODUCT ID: 28, NAME: Women's Sweater, PRICE: 190.00\n",
    "```"
   ]
  },
  {
   "cell_type": "code",
   "execution_count": 22,
   "metadata": {},
   "outputs": [
    {
     "name": "stdout",
     "output_type": "stream",
     "text": [
      "PRODUCT ID: 28, NAME: Women's Sweater, PRICE: 190.00\n",
      "PRODUCT ID: 66, NAME: Salvage the Bones, PRICE: 129.00\n"
     ]
    }
   ],
   "source": [
    "for product in Product.objects.filter(price__range=(100.01, 199.99)):\n",
    "    print(f\"PRODUCT ID: {product.id}, NAME: {product.name}, PRICE: {product.price}\")"
   ]
  },
  {
   "cell_type": "markdown",
   "metadata": {},
   "source": [
    "### 2. เพิ่ม ลบ แก้ไข สินค้า\n",
    "\n",
    "#### หมวดหมู่สินค้า\n",
    "- Information technology\n",
    "- Electronics\n",
    "- Clothing and Apparel\n",
    "- Home Appliances\n",
    "- Furniture\n",
    "- Toys and Games\n",
    "- Books and Media\n",
    "- Pet Supplies\n",
    "- Jewelry"
   ]
  },
  {
   "cell_type": "markdown",
   "metadata": {},
   "source": [
    "{'id': 1, 'name': 'Information Technology'}, \n",
    "{'id': 2, 'name': 'Electronics'}, \n",
    "{'id': 3, 'name': 'Clothing and Apparel'}, \n",
    "{'id': 4, 'name': 'Home Appliances'}, \n",
    "{'id': 5, 'name': 'Furniture'}, \n",
    "{'id': 6, 'name': 'Toys and Games'}, \n",
    "{'id': 7, 'name': 'Books and Media'}, \n",
    "{'id': 8, 'name': 'Pet Supplies'}, \n",
    "{'id': 9, 'name': 'Jewelry'}"
   ]
  },
  {
   "cell_type": "markdown",
   "metadata": {},
   "source": [
    "2.1 ให้เพิ่มสินค้าใหม่จำนวน 3 รายการ (0.5 คะแนน)\n",
    "\n",
    "```txt\n",
    "สินค้าที่ 1\n",
    "ชื่อ: Philosopher's Stone (1997)\n",
    "หมวดหมู่สินค้า: Books and Media\n",
    "จำนวนคงเหลือ: 20\n",
    "รายละเอียดซ: By J. K. Rowling.\n",
    "ราคา: 790\n",
    "\n",
    "สินค้าที่ 2\n",
    "ชื่อ: Me Before You\n",
    "หมวดหมู่สินค้า: Books and Media\n",
    "จำนวนคงเหลือ: 40\n",
    "รายละเอียดซ: A romance novel written by Jojo\n",
    "ราคา: 390\n",
    "\n",
    "สินค้าที่ 3\n",
    "ชื่อ: Notebook HP Pavilion Silver\n",
    "หมวดหมู่สินค้า: Information Technology และ Electronics\n",
    "จำนวนคงเหลือ: 10\n",
    "รายละเอียดซ: Display Screen. 16.0\n",
    "ราคา: 20000\n",
    "```"
   ]
  },
  {
   "cell_type": "code",
   "execution_count": 82,
   "metadata": {},
   "outputs": [],
   "source": [
    "product1 = Product(name=\"Philosopher's Stone (1997)\", remaining_amount=20, description=\"By J. K. Rowling.\", price=790)\n",
    "product1.save()"
   ]
  },
  {
   "cell_type": "code",
   "execution_count": 83,
   "metadata": {},
   "outputs": [],
   "source": [
    "# {'id': 7, 'name': 'Books and Media'}\n",
    "product1_added = Product.objects.get(name=\"Philosopher's Stone (1997)\")\n",
    "cate_book_media = ProductCategory.objects.get(pk=7)\n",
    "product1_added.categories.add(cate_book_media)"
   ]
  },
  {
   "cell_type": "code",
   "execution_count": 38,
   "metadata": {},
   "outputs": [],
   "source": [
    "product2 = Product(name=\"Me Before You\", remaining_amount=40, description=\"A romance novel written by Jojo\", price=390)\n",
    "# product2.save()"
   ]
  },
  {
   "cell_type": "code",
   "execution_count": 41,
   "metadata": {},
   "outputs": [],
   "source": [
    "product2_added = Product.objects.get(id=68)\n",
    "product2_added.categories.add(cate_book_media)"
   ]
  },
  {
   "cell_type": "code",
   "execution_count": 42,
   "metadata": {},
   "outputs": [],
   "source": [
    "product3 = Product(name=\"Notebook HP Pavilion Silver\", remaining_amount=10, description=\"Display Screen. 16.0s\", price=2000)\n",
    "product3.save()"
   ]
  },
  {
   "cell_type": "code",
   "execution_count": 43,
   "metadata": {},
   "outputs": [],
   "source": [
    "# {'id': 1, 'name': 'Information Technology'}\n",
    "# {'id': 2, 'name': 'Electronics'}\n",
    "product3_added = Product.objects.get(pk=69)\n",
    "cate_info_tech = ProductCategory.objects.get(pk=1)\n",
    "cate_elec = ProductCategory.objects.get(pk=2)\n",
    "product3_added.categories.add(cate_info_tech, cate_elec)"
   ]
  },
  {
   "cell_type": "markdown",
   "metadata": {},
   "source": [
    "2.2 แก้ไขชื่อสินค้า จาก `Philosopher's Stone (1997)` เป็น `Half-Blood Prince (2005)` (0.5 คะแนน)"
   ]
  },
  {
   "cell_type": "code",
   "execution_count": 72,
   "metadata": {},
   "outputs": [],
   "source": [
    "new_product1 = Product.objects.get(name=\"Philosopher's Stone (1997)\") \n",
    "new_product1.name = \"Half-Blood Prince (2005)\"\n",
    "new_product1.save()"
   ]
  },
  {
   "cell_type": "markdown",
   "metadata": {},
   "source": [
    "2.3 แก้ไขชื่อหมวดหมู่สินค้า จาก `Books and Media` เป็น `Books` (0.5 คะแนน)"
   ]
  },
  {
   "cell_type": "code",
   "execution_count": 73,
   "metadata": {},
   "outputs": [],
   "source": [
    "cate_book_media = ProductCategory.objects.get(name=\"Books\")\n",
    "cate_book_media.name = \"Books and Media\"\n",
    "cate_book_media.save()"
   ]
  },
  {
   "cell_type": "markdown",
   "metadata": {},
   "source": [
    "2.4 ลบสินค้าทุกตัวที่อยู่ในหมวดหมู่ `Books` (0.5 คะแนน)"
   ]
  },
  {
   "cell_type": "code",
   "execution_count": 80,
   "metadata": {},
   "outputs": [
    {
     "data": {
      "text/plain": [
       "<QuerySet [<Product: Product object (71)>]>"
      ]
     },
     "execution_count": 80,
     "metadata": {},
     "output_type": "execute_result"
    }
   ],
   "source": [
    "Product.objects.filter(categories__name=\"Books and Media\")"
   ]
  },
  {
   "cell_type": "code",
   "execution_count": 84,
   "metadata": {},
   "outputs": [
    {
     "data": {
      "text/plain": [
       "(2, {'shop.Product_categories': 1, 'shop.Product': 1})"
      ]
     },
     "execution_count": 84,
     "metadata": {},
     "output_type": "execute_result"
    }
   ],
   "source": [
    "delete_product_books = Product.objects.filter(categories__name=\"Books and Media\")\n",
    "delete_product_books.delete()"
   ]
  },
  {
   "cell_type": "code",
   "execution_count": null,
   "metadata": {},
   "outputs": [],
   "source": []
  }
 ],
 "metadata": {
  "kernelspec": {
   "display_name": "Django Shell-Plus",
   "language": "python",
   "name": "django_extensions"
  },
  "language_info": {
   "codemirror_mode": {
    "name": "ipython",
    "version": 3
   },
   "file_extension": ".py",
   "mimetype": "text/x-python",
   "name": "python",
   "nbconvert_exporter": "python",
   "pygments_lexer": "ipython3",
   "version": "3.12.2"
  }
 },
 "nbformat": 4,
 "nbformat_minor": 2
}
