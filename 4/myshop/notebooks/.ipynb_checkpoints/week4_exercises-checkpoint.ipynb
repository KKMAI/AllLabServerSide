{
 "cells": [
  {
   "cell_type": "markdown",
   "metadata": {},
   "source": [
    "# WEEK 4 Exercises - Making Queries\n",
    "\n",
    "![ERD-E-COMMERCE](https://github.com/it-web-pro/django-week4/blob/main/images/WEEK3-ERD(e-commerce).png?raw=true)"
   ]
  },
  {
   "cell_type": "markdown",
   "metadata": {},
   "source": [
    "**ให้นักศึกษาสร้างโปรเจคใหม่ใหม่ชื่อ`myshop`**\n",
    "\n",
    "**จากนั้นให้ทำการ startapp ใหม่ชื่อ `shop`**"
   ]
  },
  {
   "cell_type": "markdown",
   "metadata": {},
   "source": [
    "**ให้นักศึกษาทำการเพิ่ม model นี้ในไฟล์ shop/models.py**"
   ]
  },
  {
   "cell_type": "code",
   "execution_count": null,
   "metadata": {},
   "outputs": [],
   "source": [
    "from django.db import models\n",
    "\n",
    "# Create your models here.\n",
    "\n",
    "\n",
    "class Customer(models.Model):\n",
    "    first_name = models.CharField(max_length=150)\n",
    "    last_name = models.CharField(max_length=200)\n",
    "    email = models.CharField(max_length=150)\n",
    "    address = models.JSONField(null=True)\n",
    "\n",
    "class ProductCategory(models.Model):\n",
    "    name = models.CharField(max_length=150)\n",
    "\n",
    "class Product(models.Model):\n",
    "    name = models.CharField(max_length=150)\n",
    "    description = models.TextField(null=True, blank=True)\n",
    "    remaining_amount = models.PositiveIntegerField(default=0)\n",
    "    price = models.DecimalField(max_digits=10, decimal_places=2)\n",
    "    categories = models.ManyToManyField(ProductCategory)\n",
    "\n",
    "class Cart(models.Model):\n",
    "    customer = models.ForeignKey(Customer, on_delete=models.CASCADE)\n",
    "    create_date = models.DateTimeField()\n",
    "    expired_in = models.PositiveIntegerField(default=60)\n",
    "    \n",
    "class CartItem(models.Model):\n",
    "    cart = models.ForeignKey(Cart, on_delete=models.CASCADE)\n",
    "    product = models.ForeignKey(Product, on_delete=models.CASCADE)\n",
    "    amount = models.PositiveIntegerField(default=1)\n",
    "    \n",
    "class Order(models.Model):\n",
    "    customer = models.ForeignKey(Customer, on_delete=models.CASCADE)\n",
    "    order_date = models.DateField()\n",
    "    remark = models.TextField(null=True, blank=True)\n",
    "\n",
    "class OrderItem(models.Model):\n",
    "    order = models.ForeignKey(Order, on_delete=models.CASCADE)\n",
    "    product = models.ForeignKey(Product, on_delete=models.CASCADE)\n",
    "    amount = models.PositiveIntegerField(default=1)\n",
    "    \n",
    "class Payment(models.Model):\n",
    "    order = models.OneToOneField(Order, on_delete=models.PROTECT)\n",
    "    payment_date = models.DateField()\n",
    "    remark = models.TextField(null=True, blank=True)\n",
    "    price = models.DecimalField(max_digits=10, decimal_places=2)\n",
    "    discount = models.DecimalField(max_digits=10, decimal_places=2, default=0)\n",
    "\n",
    "class PaymentItem(models.Model):\n",
    "    payment = models.ForeignKey(Payment, on_delete=models.CASCADE)\n",
    "    order_item = models.OneToOneField(OrderItem, on_delete=models.CASCADE)\n",
    "    price = models.DecimalField(max_digits=10, decimal_places=2)\n",
    "    discount = models.DecimalField(max_digits=10, decimal_places=2, default=0)\n",
    "    \n",
    "class PaymentMethod(models.Model):\n",
    "    class MethodChoices(models.Choices):\n",
    "        QR = \"QR\"\n",
    "        CREDIT = \"CREDIT\"\n",
    "    \n",
    "    payment = models.ForeignKey(Payment, on_delete=models.CASCADE)\n",
    "    method = models.CharField(max_length=15, choices=MethodChoices.choices)\n",
    "    price = models.DecimalField(max_digits=10, decimal_places=2)"
   ]
  },
  {
   "cell_type": "markdown",
   "metadata": {},
   "source": [
    "**จากนั้นให้ทำการ migrate และ run คำสั่งในไฟล์ shop.sql**"
   ]
  },
  {
   "cell_type": "code",
   "execution_count": 3,
   "metadata": {},
   "outputs": [],
   "source": [
    "import os\n",
    "os.environ[\"DJANGO_ALLOW_ASYNC_UNSAFE\"] = \"true\""
   ]
  },
  {
   "cell_type": "markdown",
   "metadata": {},
   "source": [
    "### 1. ให้นักศึกษา Query ค้นหาข้อมูลมาแสดงให้ถูกต้องตามโจทย์\n",
    "\n",
    "1.1 query หาข้อมูล `Order` ทั้งหมดที่เกิดขึ้นในเดือน `พฤษภาคม` และ`ราคา`ของ Order มาแสดงผล 10 รายการแรก และแสดงผลดังตัวอย่าง (0.5 คะแนน)\n",
    "\n",
    "```txt\n",
    "ORDER ID:22, DATE: 2024-05-01, PRICE: 4890.00\n",
    "ORDER ID:23, DATE: 2024-05-01, PRICE: 2540.00\n",
    "ORDER ID:24, DATE: 2024-05-01, PRICE: 1720.00\n",
    "ORDER ID:25, DATE: 2024-05-02, PRICE: 322499.00\n",
    "ORDER ID:26, DATE: 2024-05-02, PRICE: 3399.00\n",
    "ORDER ID:27, DATE: 2024-05-02, PRICE: 1190.00\n",
    "ORDER ID:28, DATE: 2024-05-03, PRICE: 9499.00\n",
    "ORDER ID:29, DATE: 2024-05-03, PRICE: 700.00\n",
    "ORDER ID:30, DATE: 2024-05-03, PRICE: 1690.00\n",
    "ORDER ID:31, DATE: 2024-05-04, PRICE: 3280.00\n",
    "```"
   ]
  },
  {
   "cell_type": "code",
   "execution_count": 14,
   "metadata": {},
   "outputs": [
    {
     "name": "stdout",
     "output_type": "stream",
     "text": [
      "ORDER ID:22, DATE: 2024-05-01\n",
      "ORDER ID:23, DATE: 2024-05-01\n",
      "ORDER ID:24, DATE: 2024-05-01\n",
      "ORDER ID:25, DATE: 2024-05-02\n",
      "ORDER ID:26, DATE: 2024-05-02\n",
      "ORDER ID:27, DATE: 2024-05-02\n",
      "ORDER ID:28, DATE: 2024-05-03\n",
      "ORDER ID:30, DATE: 2024-05-03\n",
      "ORDER ID:31, DATE: 2024-05-04\n",
      "ORDER ID:32, DATE: 2024-05-04\n"
     ]
    }
   ],
   "source": [
    "from shop.models import *\n",
    "for order in Order.objects.filter(order_date__month = 5, payment__price__gt=1000)[:10]:\n",
    "    print(f\"ORDER ID:{order.id}, DATE: {order.order_date}\")"
   ]
  },
  {
   "cell_type": "markdown",
   "metadata": {},
   "source": [
    "1.2 query หาข้อมูล `Product` ที่มีคำลงท้ายว่า `features.` ในรายละเอียดสินค้า และแสดงผลดังตัวอย่าง (0.5 คะแนน)\n",
    "\n",
    "```txt\n",
    "PRODUCT ID: 1, DESCRIPTION: A sleek and powerful smartphone with advanced features.\n",
    "PRODUCT ID: 7, DESCRIPTION: High-resolution digital camera with advanced photography features.\n",
    "PRODUCT ID: 10, DESCRIPTION: A stylish smartwatch with health monitoring and notification features.\n",
    "PRODUCT ID: 14, DESCRIPTION: Split air conditioner with remote control and energy-saving features.\n",
    "PRODUCT ID: 45, DESCRIPTION: Customizable racing track set with loop and jump features.\n",
    "```"
   ]
  },
  {
   "cell_type": "code",
   "execution_count": 17,
   "metadata": {},
   "outputs": [
    {
     "name": "stdout",
     "output_type": "stream",
     "text": [
      "PRODUCT ID: 1, DESCRIPTION: A sleek and powerful smartphone with advanced features.\n",
      "PRODUCT ID: 7, DESCRIPTION: High-resolution digital camera with advanced photography features.\n",
      "PRODUCT ID: 10, DESCRIPTION: A stylish smartwatch with health monitoring and notification features.\n",
      "PRODUCT ID: 14, DESCRIPTION: Split air conditioner with remote control and energy-saving features.\n",
      "PRODUCT ID: 45, DESCRIPTION: Customizable racing track set with loop and jump features.\n"
     ]
    }
   ],
   "source": [
    "for product in Product.objects.filter(description__endswith = \"features.\"):\n",
    "    print(f\"PRODUCT ID: {product.id}, DESCRIPTION: {product.description}\")"
   ]
  },
  {
   "cell_type": "markdown",
   "metadata": {},
   "source": [
    "1.3 query หาข้อมูล `Product` ที่มีราคาสินค้าตั้งแต่ `5000.00` ขึ้นไป และแสดงผลดังตัวอย่าง (0.5 คะแนน)\n",
    "\n",
    "```txt\n",
    "PRODUCT ID: 1, NAME: Smartphone, PRICE: 5900.00\n",
    "PRODUCT ID: 2, NAME: Laptop, PRICE: 25999.00\n",
    "PRODUCT ID: 3, NAME: Smart TV, PRICE: 8900.00\n",
    "PRODUCT ID: 5, NAME: Tablet, PRICE: 12900.00\n",
    "PRODUCT ID: 6, NAME: Gaming Console, PRICE: 5000.00\n",
    "PRODUCT ID: 7, NAME: Digital Camera, PRICE: 32000.00\n",
    "PRODUCT ID: 11, NAME: Refrigerator, PRICE: 9000.00\n",
    "PRODUCT ID: 14, NAME: Air Conditioner, PRICE: 18900.00\n",
    "PRODUCT ID: 31, NAME: Sofa, PRICE: 7000.00\n",
    "PRODUCT ID: 54, NAME: Automatic Pet Feeder, PRICE: 7900.00\n",
    "PRODUCT ID: 61, NAME: Diamond Stud Earrings, PRICE: 320000.00\n",
    "PRODUCT ID: 62, NAME: Silver Charm Bracelet, PRICE: 70000.00\n",
    "PRODUCT ID: 63, NAME: Gold Pendant Necklace, PRICE: 59000.00\n",
    "PRODUCT ID: 64, NAME: Gemstone Ring, PRICE: 9000.00\n",
    "PRODUCT ID: 65, NAME: Rose Gold Hoop Earrings, PRICE: 1200000.00\n",
    "```"
   ]
  },
  {
   "cell_type": "code",
   "execution_count": 18,
   "metadata": {},
   "outputs": [
    {
     "name": "stdout",
     "output_type": "stream",
     "text": [
      "PRODUCT ID: 1, NAME: Smartphone, PRICE: 5900.00\n",
      "PRODUCT ID: 2, NAME: Laptop, PRICE: 25999.00\n",
      "PRODUCT ID: 3, NAME: Smart TV, PRICE: 8900.00\n",
      "PRODUCT ID: 5, NAME: Tablet, PRICE: 12900.00\n",
      "PRODUCT ID: 6, NAME: Gaming Console, PRICE: 5000.00\n",
      "PRODUCT ID: 7, NAME: Digital Camera, PRICE: 32000.00\n",
      "PRODUCT ID: 11, NAME: Refrigerator, PRICE: 9000.00\n",
      "PRODUCT ID: 14, NAME: Air Conditioner, PRICE: 18900.00\n",
      "PRODUCT ID: 31, NAME: Sofa, PRICE: 7000.00\n",
      "PRODUCT ID: 54, NAME: Automatic Pet Feeder, PRICE: 7900.00\n",
      "PRODUCT ID: 61, NAME: Diamond Stud Earrings, PRICE: 320000.00\n",
      "PRODUCT ID: 62, NAME: Silver Charm Bracelet, PRICE: 70000.00\n",
      "PRODUCT ID: 63, NAME: Gold Pendant Necklace, PRICE: 59000.00\n",
      "PRODUCT ID: 64, NAME: Gemstone Ring, PRICE: 9000.00\n",
      "PRODUCT ID: 65, NAME: Rose Gold Hoop Earrings, PRICE: 1200000.00\n"
     ]
    }
   ],
   "source": [
    "for product in Product.objects.filter(price__gte=5000.00):\n",
    "    print(f\"PRODUCT ID: {product.id}, NAME: {product.name}, PRICE: {product.price}\")"
   ]
  },
  {
   "cell_type": "markdown",
   "metadata": {},
   "source": [
    "1.4 query หาข้อมูล `Product` ที่มีราคาสินค้าน้อยกว่า `200.00` และมากกว่า `100.00` และแสดงผลดังตัวอย่าง (0.5 คะแนน)\n",
    "\n",
    "```txt\n",
    "PRODUCT ID: 28, NAME: Women's Sweater, PRICE: 190.00\n",
    "```"
   ]
  },
  {
   "cell_type": "code",
   "execution_count": 22,
   "metadata": {},
   "outputs": [
    {
     "name": "stdout",
     "output_type": "stream",
     "text": [
      "PRODUCT ID: 28, NAME: Women's Sweater, PRICE: 190.00\n",
      "PRODUCT ID: 66, NAME: Salvage the Bones, PRICE: 129.00\n"
     ]
    }
   ],
   "source": [
    "for product in Product.objects.filter(price__range=(100.01, 199.99)):\n",
    "    print(f\"PRODUCT ID: {product.id}, NAME: {product.name}, PRICE: {product.price}\")"
   ]
  },
  {
   "cell_type": "markdown",
   "metadata": {},
   "source": [
    "### 2. เพิ่ม ลบ แก้ไข สินค้า\n",
    "\n",
    "#### หมวดหมู่สินค้า\n",
    "- Information technology\n",
    "- Electronics\n",
    "- Clothing and Apparel\n",
    "- Home Appliances\n",
    "- Furniture\n",
    "- Toys and Games\n",
    "- Books and Media\n",
    "- Pet Supplies\n",
    "- Jewelry"
   ]
  },
  {
   "cell_type": "markdown",
   "metadata": {},
   "source": [
    "{'id': 1, 'name': 'Information Technology'}, \n",
    "{'id': 2, 'name': 'Electronics'}, \n",
    "{'id': 3, 'name': 'Clothing and Apparel'}, \n",
    "{'id': 4, 'name': 'Home Appliances'}, \n",
    "{'id': 5, 'name': 'Furniture'}, \n",
    "{'id': 6, 'name': 'Toys and Games'}, \n",
    "{'id': 7, 'name': 'Books and Media'}, \n",
    "{'id': 8, 'name': 'Pet Supplies'}, \n",
    "{'id': 9, 'name': 'Jewelry'}"
   ]
  },
  {
   "cell_type": "markdown",
   "metadata": {},
   "source": [
    "2.1 ให้เพิ่มสินค้าใหม่จำนวน 3 รายการ (0.5 คะแนน)\n",
    "\n",
    "```txt\n",
    "สินค้าที่ 1\n",
    "ชื่อ: Philosopher's Stone (1997)\n",
    "หมวดหมู่สินค้า: Books and Media\n",
    "จำนวนคงเหลือ: 20\n",
    "รายละเอียดซ: By J. K. Rowling.\n",
    "ราคา: 790\n",
    "\n",
    "สินค้าที่ 2\n",
    "ชื่อ: Me Before You\n",
    "หมวดหมู่สินค้า: Books and Media\n",
    "จำนวนคงเหลือ: 40\n",
    "รายละเอียดซ: A romance novel written by Jojo\n",
    "ราคา: 390\n",
    "\n",
    "สินค้าที่ 3\n",
    "ชื่อ: Notebook HP Pavilion Silver\n",
    "หมวดหมู่สินค้า: Information Technology และ Electronics\n",
    "จำนวนคงเหลือ: 10\n",
    "รายละเอียดซ: Display Screen. 16.0\n",
    "ราคา: 20000\n",
    "```"
   ]
  },
  {
   "cell_type": "code",
   "execution_count": null,
   "metadata": {},
   "outputs": [],
   "source": []
  },
  {
   "cell_type": "markdown",
   "metadata": {},
   "source": [
    "2.2 แก้ไขชื่อสินค้า จาก `Philosopher's Stone (1997)` เป็น `Half-Blood Prince (2005)` (0.5 คะแนน)"
   ]
  },
  {
   "cell_type": "code",
   "execution_count": null,
   "metadata": {},
   "outputs": [],
   "source": []
  },
  {
   "cell_type": "markdown",
   "metadata": {},
   "source": [
    "2.3 แก้ไขชื่อหมวดหมู่สินค้า จาก `Books and Media` เป็น `Books` (0.5 คะแนน)"
   ]
  },
  {
   "cell_type": "code",
   "execution_count": null,
   "metadata": {},
   "outputs": [],
   "source": []
  },
  {
   "cell_type": "markdown",
   "metadata": {},
   "source": [
    "2.4 ลบสินค้าทุกตัวที่อยู่ในหมวดหมู่ `Books` (0.5 คะแนน)"
   ]
  },
  {
   "cell_type": "code",
   "execution_count": null,
   "metadata": {},
   "outputs": [],
   "source": []
  }
 ],
 "metadata": {
  "kernelspec": {
   "display_name": "Django Shell-Plus",
   "language": "python",
   "name": "django_extensions"
  },
  "language_info": {
   "codemirror_mode": {
    "name": "ipython",
    "version": 3
   },
   "file_extension": ".py",
   "mimetype": "text/x-python",
   "name": "python",
   "nbconvert_exporter": "python",
   "pygments_lexer": "ipython3",
   "version": "3.12.2"
  }
 },
 "nbformat": 4,
 "nbformat_minor": 2
}
